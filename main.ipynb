{
 "cells": [
  {
   "cell_type": "code",
   "execution_count": 10,
   "metadata": {},
   "outputs": [],
   "source": [
    "import yfinance as yf\n"
   ]
  },
  {
   "cell_type": "code",
   "execution_count": 11,
   "metadata": {},
   "outputs": [
    {
     "data": {
      "text/html": [
       "<div>\n",
       "<style scoped>\n",
       "    .dataframe tbody tr th:only-of-type {\n",
       "        vertical-align: middle;\n",
       "    }\n",
       "\n",
       "    .dataframe tbody tr th {\n",
       "        vertical-align: top;\n",
       "    }\n",
       "\n",
       "    .dataframe thead th {\n",
       "        text-align: right;\n",
       "    }\n",
       "</style>\n",
       "<table border=\"1\" class=\"dataframe\">\n",
       "  <thead>\n",
       "    <tr style=\"text-align: right;\">\n",
       "      <th></th>\n",
       "      <th>Open</th>\n",
       "      <th>High</th>\n",
       "      <th>Low</th>\n",
       "      <th>Close</th>\n",
       "      <th>Volume</th>\n",
       "      <th>Dividends</th>\n",
       "      <th>Stock Splits</th>\n",
       "    </tr>\n",
       "    <tr>\n",
       "      <th>Date</th>\n",
       "      <th></th>\n",
       "      <th></th>\n",
       "      <th></th>\n",
       "      <th></th>\n",
       "      <th></th>\n",
       "      <th></th>\n",
       "      <th></th>\n",
       "    </tr>\n",
       "  </thead>\n",
       "  <tbody>\n",
       "    <tr>\n",
       "      <th>2007-09-17 00:00:00+05:30</th>\n",
       "      <td>4518.450195</td>\n",
       "      <td>4549.049805</td>\n",
       "      <td>4482.850098</td>\n",
       "      <td>4494.649902</td>\n",
       "      <td>0</td>\n",
       "      <td>0.0</td>\n",
       "      <td>0.0</td>\n",
       "    </tr>\n",
       "    <tr>\n",
       "      <th>2007-09-18 00:00:00+05:30</th>\n",
       "      <td>4494.100098</td>\n",
       "      <td>4551.799805</td>\n",
       "      <td>4481.549805</td>\n",
       "      <td>4546.200195</td>\n",
       "      <td>0</td>\n",
       "      <td>0.0</td>\n",
       "      <td>0.0</td>\n",
       "    </tr>\n",
       "    <tr>\n",
       "      <th>2007-09-19 00:00:00+05:30</th>\n",
       "      <td>4550.250000</td>\n",
       "      <td>4739.000000</td>\n",
       "      <td>4550.250000</td>\n",
       "      <td>4732.350098</td>\n",
       "      <td>0</td>\n",
       "      <td>0.0</td>\n",
       "      <td>0.0</td>\n",
       "    </tr>\n",
       "    <tr>\n",
       "      <th>2007-09-20 00:00:00+05:30</th>\n",
       "      <td>4734.850098</td>\n",
       "      <td>4760.850098</td>\n",
       "      <td>4721.149902</td>\n",
       "      <td>4747.549805</td>\n",
       "      <td>0</td>\n",
       "      <td>0.0</td>\n",
       "      <td>0.0</td>\n",
       "    </tr>\n",
       "    <tr>\n",
       "      <th>2007-09-21 00:00:00+05:30</th>\n",
       "      <td>4752.950195</td>\n",
       "      <td>4855.700195</td>\n",
       "      <td>4733.700195</td>\n",
       "      <td>4837.549805</td>\n",
       "      <td>0</td>\n",
       "      <td>0.0</td>\n",
       "      <td>0.0</td>\n",
       "    </tr>\n",
       "    <tr>\n",
       "      <th>...</th>\n",
       "      <td>...</td>\n",
       "      <td>...</td>\n",
       "      <td>...</td>\n",
       "      <td>...</td>\n",
       "      <td>...</td>\n",
       "      <td>...</td>\n",
       "      <td>...</td>\n",
       "    </tr>\n",
       "    <tr>\n",
       "      <th>2023-08-07 00:00:00+05:30</th>\n",
       "      <td>19576.849609</td>\n",
       "      <td>19620.449219</td>\n",
       "      <td>19524.800781</td>\n",
       "      <td>19597.300781</td>\n",
       "      <td>216600</td>\n",
       "      <td>0.0</td>\n",
       "      <td>0.0</td>\n",
       "    </tr>\n",
       "    <tr>\n",
       "      <th>2023-08-08 00:00:00+05:30</th>\n",
       "      <td>19627.199219</td>\n",
       "      <td>19634.400391</td>\n",
       "      <td>19533.099609</td>\n",
       "      <td>19570.849609</td>\n",
       "      <td>260300</td>\n",
       "      <td>0.0</td>\n",
       "      <td>0.0</td>\n",
       "    </tr>\n",
       "    <tr>\n",
       "      <th>2023-08-09 00:00:00+05:30</th>\n",
       "      <td>19578.800781</td>\n",
       "      <td>19645.500000</td>\n",
       "      <td>19467.500000</td>\n",
       "      <td>19632.550781</td>\n",
       "      <td>266500</td>\n",
       "      <td>0.0</td>\n",
       "      <td>0.0</td>\n",
       "    </tr>\n",
       "    <tr>\n",
       "      <th>2023-08-10 00:00:00+05:30</th>\n",
       "      <td>19605.550781</td>\n",
       "      <td>19623.599609</td>\n",
       "      <td>19495.400391</td>\n",
       "      <td>19543.099609</td>\n",
       "      <td>312200</td>\n",
       "      <td>0.0</td>\n",
       "      <td>0.0</td>\n",
       "    </tr>\n",
       "    <tr>\n",
       "      <th>2023-08-11 00:00:00+05:30</th>\n",
       "      <td>19554.250000</td>\n",
       "      <td>19557.750000</td>\n",
       "      <td>19412.750000</td>\n",
       "      <td>19428.300781</td>\n",
       "      <td>235500</td>\n",
       "      <td>0.0</td>\n",
       "      <td>0.0</td>\n",
       "    </tr>\n",
       "  </tbody>\n",
       "</table>\n",
       "<p>3899 rows × 7 columns</p>\n",
       "</div>"
      ],
      "text/plain": [
       "                                   Open          High           Low  \\\n",
       "Date                                                                  \n",
       "2007-09-17 00:00:00+05:30   4518.450195   4549.049805   4482.850098   \n",
       "2007-09-18 00:00:00+05:30   4494.100098   4551.799805   4481.549805   \n",
       "2007-09-19 00:00:00+05:30   4550.250000   4739.000000   4550.250000   \n",
       "2007-09-20 00:00:00+05:30   4734.850098   4760.850098   4721.149902   \n",
       "2007-09-21 00:00:00+05:30   4752.950195   4855.700195   4733.700195   \n",
       "...                                 ...           ...           ...   \n",
       "2023-08-07 00:00:00+05:30  19576.849609  19620.449219  19524.800781   \n",
       "2023-08-08 00:00:00+05:30  19627.199219  19634.400391  19533.099609   \n",
       "2023-08-09 00:00:00+05:30  19578.800781  19645.500000  19467.500000   \n",
       "2023-08-10 00:00:00+05:30  19605.550781  19623.599609  19495.400391   \n",
       "2023-08-11 00:00:00+05:30  19554.250000  19557.750000  19412.750000   \n",
       "\n",
       "                                  Close  Volume  Dividends  Stock Splits  \n",
       "Date                                                                      \n",
       "2007-09-17 00:00:00+05:30   4494.649902       0        0.0           0.0  \n",
       "2007-09-18 00:00:00+05:30   4546.200195       0        0.0           0.0  \n",
       "2007-09-19 00:00:00+05:30   4732.350098       0        0.0           0.0  \n",
       "2007-09-20 00:00:00+05:30   4747.549805       0        0.0           0.0  \n",
       "2007-09-21 00:00:00+05:30   4837.549805       0        0.0           0.0  \n",
       "...                                 ...     ...        ...           ...  \n",
       "2023-08-07 00:00:00+05:30  19597.300781  216600        0.0           0.0  \n",
       "2023-08-08 00:00:00+05:30  19570.849609  260300        0.0           0.0  \n",
       "2023-08-09 00:00:00+05:30  19632.550781  266500        0.0           0.0  \n",
       "2023-08-10 00:00:00+05:30  19543.099609  312200        0.0           0.0  \n",
       "2023-08-11 00:00:00+05:30  19428.300781  235500        0.0           0.0  \n",
       "\n",
       "[3899 rows x 7 columns]"
      ]
     },
     "execution_count": 11,
     "metadata": {},
     "output_type": "execute_result"
    }
   ],
   "source": [
    "nifty = yf.Ticker(\"^NSEI\")\n",
    "nifty = nifty.history(period=\"max\")\n",
    "nifty"
   ]
  },
  {
   "cell_type": "code",
   "execution_count": 12,
   "metadata": {},
   "outputs": [
    {
     "data": {
      "text/plain": [
       "<Axes: xlabel='Date'>"
      ]
     },
     "execution_count": 12,
     "metadata": {},
     "output_type": "execute_result"
    },
    {
     "data": {
      "image/png": "[encoded data removed]",
      "text/plain": [
       "<Figure size 640x480 with 1 Axes>"
      ]
     },
     "metadata": {},
     "output_type": "display_data"
    }
   ],
   "source": [
    "nifty.plot.line(y=\"Close\",use_index=True)"
   ]
  },
  {
   "cell_type": "code",
   "execution_count": 13,
   "metadata": {},
   "outputs": [],
   "source": [
    "del nifty [\"Dividends\"]\n",
    "del nifty [\"Stock Splits\"]"
   ]
  },
  {
   "cell_type": "code",
   "execution_count": 14,
   "metadata": {},
   "outputs": [],
   "source": [
    "nifty[\"Next Day\"] = nifty[\"Close\"].shift(-1)"
   ]
  },
  {
   "cell_type": "code",
   "execution_count": 15,
   "metadata": {},
   "outputs": [
    {
     "data": {
      "text/html": [
       "<div>\n",
       "<style scoped>\n",
       "    .dataframe tbody tr th:only-of-type {\n",
       "        vertical-align: middle;\n",
       "    }\n",
       "\n",
       "    .dataframe tbody tr th {\n",
       "        vertical-align: top;\n",
       "    }\n",
       "\n",
       "    .dataframe thead th {\n",
       "        text-align: right;\n",
       "    }\n",
       "</style>\n",
       "<table border=\"1\" class=\"dataframe\">\n",
       "  <thead>\n",
       "    <tr style=\"text-align: right;\">\n",
       "      <th></th>\n",
       "      <th>Open</th>\n",
       "      <th>High</th>\n",
       "      <th>Low</th>\n",
       "      <th>Close</th>\n",
       "      <th>Volume</th>\n",
       "      <th>Next Day</th>\n",
       "    </tr>\n",
       "    <tr>\n",
       "      <th>Date</th>\n",
       "      <th></th>\n",
       "      <th></th>\n",
       "      <th></th>\n",
       "      <th></th>\n",
       "      <th></th>\n",
       "      <th></th>\n",
       "    </tr>\n",
       "  </thead>\n",
       "  <tbody>\n",
       "    <tr>\n",
       "      <th>2007-09-17 00:00:00+05:30</th>\n",
       "      <td>4518.450195</td>\n",
       "      <td>4549.049805</td>\n",
       "      <td>4482.850098</td>\n",
       "      <td>4494.649902</td>\n",
       "      <td>0</td>\n",
       "      <td>4546.200195</td>\n",
       "    </tr>\n",
       "    <tr>\n",
       "      <th>2007-09-18 00:00:00+05:30</th>\n",
       "      <td>4494.100098</td>\n",
       "      <td>4551.799805</td>\n",
       "      <td>4481.549805</td>\n",
       "      <td>4546.200195</td>\n",
       "      <td>0</td>\n",
       "      <td>4732.350098</td>\n",
       "    </tr>\n",
       "    <tr>\n",
       "      <th>2007-09-19 00:00:00+05:30</th>\n",
       "      <td>4550.250000</td>\n",
       "      <td>4739.000000</td>\n",
       "      <td>4550.250000</td>\n",
       "      <td>4732.350098</td>\n",
       "      <td>0</td>\n",
       "      <td>4747.549805</td>\n",
       "    </tr>\n",
       "    <tr>\n",
       "      <th>2007-09-20 00:00:00+05:30</th>\n",
       "      <td>4734.850098</td>\n",
       "      <td>4760.850098</td>\n",
       "      <td>4721.149902</td>\n",
       "      <td>4747.549805</td>\n",
       "      <td>0</td>\n",
       "      <td>4837.549805</td>\n",
       "    </tr>\n",
       "    <tr>\n",
       "      <th>2007-09-21 00:00:00+05:30</th>\n",
       "      <td>4752.950195</td>\n",
       "      <td>4855.700195</td>\n",
       "      <td>4733.700195</td>\n",
       "      <td>4837.549805</td>\n",
       "      <td>0</td>\n",
       "      <td>4932.200195</td>\n",
       "    </tr>\n",
       "    <tr>\n",
       "      <th>...</th>\n",
       "      <td>...</td>\n",
       "      <td>...</td>\n",
       "      <td>...</td>\n",
       "      <td>...</td>\n",
       "      <td>...</td>\n",
       "      <td>...</td>\n",
       "    </tr>\n",
       "    <tr>\n",
       "      <th>2023-08-07 00:00:00+05:30</th>\n",
       "      <td>19576.849609</td>\n",
       "      <td>19620.449219</td>\n",
       "      <td>19524.800781</td>\n",
       "      <td>19597.300781</td>\n",
       "      <td>216600</td>\n",
       "      <td>19570.849609</td>\n",
       "    </tr>\n",
       "    <tr>\n",
       "      <th>2023-08-08 00:00:00+05:30</th>\n",
       "      <td>19627.199219</td>\n",
       "      <td>19634.400391</td>\n",
       "      <td>19533.099609</td>\n",
       "      <td>19570.849609</td>\n",
       "      <td>260300</td>\n",
       "      <td>19632.550781</td>\n",
       "    </tr>\n",
       "    <tr>\n",
       "      <th>2023-08-09 00:00:00+05:30</th>\n",
       "      <td>19578.800781</td>\n",
       "      <td>19645.500000</td>\n",
       "      <td>19467.500000</td>\n",
       "      <td>19632.550781</td>\n",
       "      <td>266500</td>\n",
       "      <td>19543.099609</td>\n",
       "    </tr>\n",
       "    <tr>\n",
       "      <th>2023-08-10 00:00:00+05:30</th>\n",
       "      <td>19605.550781</td>\n",
       "      <td>19623.599609</td>\n",
       "      <td>19495.400391</td>\n",
       "      <td>19543.099609</td>\n",
       "      <td>312200</td>\n",
       "      <td>19428.300781</td>\n",
       "    </tr>\n",
       "    <tr>\n",
       "      <th>2023-08-11 00:00:00+05:30</th>\n",
       "      <td>19554.250000</td>\n",
       "      <td>19557.750000</td>\n",
       "      <td>19412.750000</td>\n",
       "      <td>19428.300781</td>\n",
       "      <td>235500</td>\n",
       "      <td>NaN</td>\n",
       "    </tr>\n",
       "  </tbody>\n",
       "</table>\n",
       "<p>3899 rows × 6 columns</p>\n",
       "</div>"
      ],
      "text/plain": [
       "                                   Open          High           Low  \\\n",
       "Date                                                                  \n",
       "2007-09-17 00:00:00+05:30   4518.450195   4549.049805   4482.850098   \n",
       "2007-09-18 00:00:00+05:30   4494.100098   4551.799805   4481.549805   \n",
       "2007-09-19 00:00:00+05:30   4550.250000   4739.000000   4550.250000   \n",
       "2007-09-20 00:00:00+05:30   4734.850098   4760.850098   4721.149902   \n",
       "2007-09-21 00:00:00+05:30   4752.950195   4855.700195   4733.700195   \n",
       "...                                 ...           ...           ...   \n",
       "2023-08-07 00:00:00+05:30  19576.849609  19620.449219  19524.800781   \n",
       "2023-08-08 00:00:00+05:30  19627.199219  19634.400391  19533.099609   \n",
       "2023-08-09 00:00:00+05:30  19578.800781  19645.500000  19467.500000   \n",
       "2023-08-10 00:00:00+05:30  19605.550781  19623.599609  19495.400391   \n",
       "2023-08-11 00:00:00+05:30  19554.250000  19557.750000  19412.750000   \n",
       "\n",
       "                                  Close  Volume      Next Day  \n",
       "Date                                                           \n",
       "2007-09-17 00:00:00+05:30   4494.649902       0   4546.200195  \n",
       "2007-09-18 00:00:00+05:30   4546.200195       0   4732.350098  \n",
       "2007-09-19 00:00:00+05:30   4732.350098       0   4747.549805  \n",
       "2007-09-20 00:00:00+05:30   4747.549805       0   4837.549805  \n",
       "2007-09-21 00:00:00+05:30   4837.549805       0   4932.200195  \n",
       "...                                 ...     ...           ...  \n",
       "2023-08-07 00:00:00+05:30  19597.300781  216600  19570.849609  \n",
       "2023-08-08 00:00:00+05:30  19570.849609  260300  19632.550781  \n",
       "2023-08-09 00:00:00+05:30  19632.550781  266500  19543.099609  \n",
       "2023-08-10 00:00:00+05:30  19543.099609  312200  19428.300781  \n",
       "2023-08-11 00:00:00+05:30  19428.300781  235500           NaN  \n",
       "\n",
       "[3899 rows x 6 columns]"
      ]
     },
     "execution_count": 15,
     "metadata": {},
     "output_type": "execute_result"
    }
   ],
   "source": [
    "nifty"
   ]
  },
  {
   "cell_type": "code",
   "execution_count": 17,
   "metadata": {},
   "outputs": [],
   "source": [
    "nifty[\"Target\"] = (nifty[\"Next Day\"] > nifty[\"Close\"]).astype(int)"
   ]
  },
  {
   "cell_type": "code",
   "execution_count": 18,
   "metadata": {},
   "outputs": [
    {
     "data": {
      "text/html": [
       "<div>\n",
       "<style scoped>\n",
       "    .dataframe tbody tr th:only-of-type {\n",
       "        vertical-align: middle;\n",
       "    }\n",
       "\n",
       "    .dataframe tbody tr th {\n",
       "        vertical-align: top;\n",
       "    }\n",
       "\n",
       "    .dataframe thead th {\n",
       "        text-align: right;\n",
       "    }\n",
       "</style>\n",
       "<table border=\"1\" class=\"dataframe\">\n",
       "  <thead>\n",
       "    <tr style=\"text-align: right;\">\n",
       "      <th></th>\n",
       "      <th>Open</th>\n",
       "      <th>High</th>\n",
       "      <th>Low</th>\n",
       "      <th>Close</th>\n",
       "      <th>Volume</th>\n",
       "      <th>Next Day</th>\n",
       "      <th>Target</th>\n",
       "    </tr>\n",
       "    <tr>\n",
       "      <th>Date</th>\n",
       "      <th></th>\n",
       "      <th></th>\n",
       "      <th></th>\n",
       "      <th></th>\n",
       "      <th></th>\n",
       "      <th></th>\n",
       "      <th></th>\n",
       "    </tr>\n",
       "  </thead>\n",
       "  <tbody>\n",
       "    <tr>\n",
       "      <th>2007-09-17 00:00:00+05:30</th>\n",
       "      <td>4518.450195</td>\n",
       "      <td>4549.049805</td>\n",
       "      <td>4482.850098</td>\n",
       "      <td>4494.649902</td>\n",
       "      <td>0</td>\n",
       "      <td>4546.200195</td>\n",
       "      <td>1</td>\n",
       "    </tr>\n",
       "    <tr>\n",
       "      <th>2007-09-18 00:00:00+05:30</th>\n",
       "      <td>4494.100098</td>\n",
       "      <td>4551.799805</td>\n",
       "      <td>4481.549805</td>\n",
       "      <td>4546.200195</td>\n",
       "      <td>0</td>\n",
       "      <td>4732.350098</td>\n",
       "      <td>1</td>\n",
       "    </tr>\n",
       "    <tr>\n",
       "      <th>2007-09-19 00:00:00+05:30</th>\n",
       "      <td>4550.250000</td>\n",
       "      <td>4739.000000</td>\n",
       "      <td>4550.250000</td>\n",
       "      <td>4732.350098</td>\n",
       "      <td>0</td>\n",
       "      <td>4747.549805</td>\n",
       "      <td>1</td>\n",
       "    </tr>\n",
       "    <tr>\n",
       "      <th>2007-09-20 00:00:00+05:30</th>\n",
       "      <td>4734.850098</td>\n",
       "      <td>4760.850098</td>\n",
       "      <td>4721.149902</td>\n",
       "      <td>4747.549805</td>\n",
       "      <td>0</td>\n",
       "      <td>4837.549805</td>\n",
       "      <td>1</td>\n",
       "    </tr>\n",
       "    <tr>\n",
       "      <th>2007-09-21 00:00:00+05:30</th>\n",
       "      <td>4752.950195</td>\n",
       "      <td>4855.700195</td>\n",
       "      <td>4733.700195</td>\n",
       "      <td>4837.549805</td>\n",
       "      <td>0</td>\n",
       "      <td>4932.200195</td>\n",
       "      <td>1</td>\n",
       "    </tr>\n",
       "    <tr>\n",
       "      <th>...</th>\n",
       "      <td>...</td>\n",
       "      <td>...</td>\n",
       "      <td>...</td>\n",
       "      <td>...</td>\n",
       "      <td>...</td>\n",
       "      <td>...</td>\n",
       "      <td>...</td>\n",
       "    </tr>\n",
       "    <tr>\n",
       "      <th>2023-08-07 00:00:00+05:30</th>\n",
       "      <td>19576.849609</td>\n",
       "      <td>19620.449219</td>\n",
       "      <td>19524.800781</td>\n",
       "      <td>19597.300781</td>\n",
       "      <td>216600</td>\n",
       "      <td>19570.849609</td>\n",
       "      <td>0</td>\n",
       "    </tr>\n",
       "    <tr>\n",
       "      <th>2023-08-08 00:00:00+05:30</th>\n",
       "      <td>19627.199219</td>\n",
       "      <td>19634.400391</td>\n",
       "      <td>19533.099609</td>\n",
       "      <td>19570.849609</td>\n",
       "      <td>260300</td>\n",
       "      <td>19632.550781</td>\n",
       "      <td>1</td>\n",
       "    </tr>\n",
       "    <tr>\n",
       "      <th>2023-08-09 00:00:00+05:30</th>\n",
       "      <td>19578.800781</td>\n",
       "      <td>19645.500000</td>\n",
       "      <td>19467.500000</td>\n",
       "      <td>19632.550781</td>\n",
       "      <td>266500</td>\n",
       "      <td>19543.099609</td>\n",
       "      <td>0</td>\n",
       "    </tr>\n",
       "    <tr>\n",
       "      <th>2023-08-10 00:00:00+05:30</th>\n",
       "      <td>19605.550781</td>\n",
       "      <td>19623.599609</td>\n",
       "      <td>19495.400391</td>\n",
       "      <td>19543.099609</td>\n",
       "      <td>312200</td>\n",
       "      <td>19428.300781</td>\n",
       "      <td>0</td>\n",
       "    </tr>\n",
       "    <tr>\n",
       "      <th>2023-08-11 00:00:00+05:30</th>\n",
       "      <td>19554.250000</td>\n",
       "      <td>19557.750000</td>\n",
       "      <td>19412.750000</td>\n",
       "      <td>19428.300781</td>\n",
       "      <td>235500</td>\n",
       "      <td>NaN</td>\n",
       "      <td>0</td>\n",
       "    </tr>\n",
       "  </tbody>\n",
       "</table>\n",
       "<p>3899 rows × 7 columns</p>\n",
       "</div>"
      ],
      "text/plain": [
       "                                   Open          High           Low  \\\n",
       "Date                                                                  \n",
       "2007-09-17 00:00:00+05:30   4518.450195   4549.049805   4482.850098   \n",
       "2007-09-18 00:00:00+05:30   4494.100098   4551.799805   4481.549805   \n",
       "2007-09-19 00:00:00+05:30   4550.250000   4739.000000   4550.250000   \n",
       "2007-09-20 00:00:00+05:30   4734.850098   4760.850098   4721.149902   \n",
       "2007-09-21 00:00:00+05:30   4752.950195   4855.700195   4733.700195   \n",
       "...                                 ...           ...           ...   \n",
       "2023-08-07 00:00:00+05:30  19576.849609  19620.449219  19524.800781   \n",
       "2023-08-08 00:00:00+05:30  19627.199219  19634.400391  19533.099609   \n",
       "2023-08-09 00:00:00+05:30  19578.800781  19645.500000  19467.500000   \n",
       "2023-08-10 00:00:00+05:30  19605.550781  19623.599609  19495.400391   \n",
       "2023-08-11 00:00:00+05:30  19554.250000  19557.750000  19412.750000   \n",
       "\n",
       "                                  Close  Volume      Next Day  Target  \n",
       "Date                                                                   \n",
       "2007-09-17 00:00:00+05:30   4494.649902       0   4546.200195       1  \n",
       "2007-09-18 00:00:00+05:30   4546.200195       0   4732.350098       1  \n",
       "2007-09-19 00:00:00+05:30   4732.350098       0   4747.549805       1  \n",
       "2007-09-20 00:00:00+05:30   4747.549805       0   4837.549805       1  \n",
       "2007-09-21 00:00:00+05:30   4837.549805       0   4932.200195       1  \n",
       "...                                 ...     ...           ...     ...  \n",
       "2023-08-07 00:00:00+05:30  19597.300781  216600  19570.849609       0  \n",
       "2023-08-08 00:00:00+05:30  19570.849609  260300  19632.550781       1  \n",
       "2023-08-09 00:00:00+05:30  19632.550781  266500  19543.099609       0  \n",
       "2023-08-10 00:00:00+05:30  19543.099609  312200  19428.300781       0  \n",
       "2023-08-11 00:00:00+05:30  19428.300781  235500           NaN       0  \n",
       "\n",
       "[3899 rows x 7 columns]"
      ]
     },
     "execution_count": 18,
     "metadata": {},
     "output_type": "execute_result"
    }
   ],
   "source": [
    "nifty"
   ]
  },
  {
   "cell_type": "code",
   "execution_count": 22,
   "metadata": {},
   "outputs": [],
   "source": [
    "from sklearn.ensemble import RandomForestClassifier\n",
    "model = RandomForestClassifier(n_estimators=200, min_samples_split=100, random_state=1)\n",
    " \n",
    "train = nifty[:-100]\n",
    "test = nifty[-100:]\n",
    " "
   ]
  },
  {
   "cell_type": "code",
   "execution_count": 26,
   "metadata": {},
   "outputs": [
    {
     "data": {
      "text/html": [
       "<style>#sk-container-id-1 {color: black;}#sk-container-id-1 pre{padding: 0;}#sk-container-id-1 div.sk-toggleable {background-color: white;}#sk-container-id-1 label.sk-toggleable__label {cursor: pointer;display: block;width: 100%;margin-bottom: 0;padding: 0.3em;box-sizing: border-box;text-align: center;}#sk-container-id-1 label.sk-toggleable__label-arrow:before {content: \"▸\";float: left;margin-right: 0.25em;color: #696969;}#sk-container-id-1 label.sk-toggleable__label-arrow:hover:before {color: black;}#sk-container-id-1 div.sk-estimator:hover label.sk-toggleable__label-arrow:before {color: black;}#sk-container-id-1 div.sk-toggleable__content {max-height: 0;max-width: 0;overflow: hidden;text-align: left;background-color: #f0f8ff;}#sk-container-id-1 div.sk-toggleable__content pre {margin: 0.2em;color: black;border-radius: 0.25em;background-color: #f0f8ff;}#sk-container-id-1 input.sk-toggleable__control:checked~div.sk-toggleable__content {max-height: 200px;max-width: 100%;overflow: auto;}#sk-container-id-1 input.sk-toggleable__control:checked~label.sk-toggleable__label-arrow:before {content: \"▾\";}#sk-container-id-1 div.sk-estimator input.sk-toggleable__control:checked~label.sk-toggleable__label {background-color: #d4ebff;}#sk-container-id-1 div.sk-label input.sk-toggleable__control:checked~label.sk-toggleable__label {background-color: #d4ebff;}#sk-container-id-1 input.sk-hidden--visually {border: 0;clip: rect(1px 1px 1px 1px);clip: rect(1px, 1px, 1px, 1px);height: 1px;margin: -1px;overflow: hidden;padding: 0;position: absolute;width: 1px;}#sk-container-id-1 div.sk-estimator {font-family: monospace;background-color: #f0f8ff;border: 1px dotted black;border-radius: 0.25em;box-sizing: border-box;margin-bottom: 0.5em;}#sk-container-id-1 div.sk-estimator:hover {background-color: #d4ebff;}#sk-container-id-1 div.sk-parallel-item::after {content: \"\";width: 100%;border-bottom: 1px solid gray;flex-grow: 1;}#sk-container-id-1 div.sk-label:hover label.sk-toggleable__label {background-color: #d4ebff;}#sk-container-id-1 div.sk-serial::before {content: \"\";position: absolute;border-left: 1px solid gray;box-sizing: border-box;top: 0;bottom: 0;left: 50%;z-index: 0;}#sk-container-id-1 div.sk-serial {display: flex;flex-direction: column;align-items: center;background-color: white;padding-right: 0.2em;padding-left: 0.2em;position: relative;}#sk-container-id-1 div.sk-item {position: relative;z-index: 1;}#sk-container-id-1 div.sk-parallel {display: flex;align-items: stretch;justify-content: center;background-color: white;position: relative;}#sk-container-id-1 div.sk-item::before, #sk-container-id-1 div.sk-parallel-item::before {content: \"\";position: absolute;border-left: 1px solid gray;box-sizing: border-box;top: 0;bottom: 0;left: 50%;z-index: -1;}#sk-container-id-1 div.sk-parallel-item {display: flex;flex-direction: column;z-index: 1;position: relative;background-color: white;}#sk-container-id-1 div.sk-parallel-item:first-child::after {align-self: flex-end;width: 50%;}#sk-container-id-1 div.sk-parallel-item:last-child::after {align-self: flex-start;width: 50%;}#sk-container-id-1 div.sk-parallel-item:only-child::after {width: 0;}#sk-container-id-1 div.sk-dashed-wrapped {border: 1px dashed gray;margin: 0 0.4em 0.5em 0.4em;box-sizing: border-box;padding-bottom: 0.4em;background-color: white;}#sk-container-id-1 div.sk-label label {font-family: monospace;font-weight: bold;display: inline-block;line-height: 1.2em;}#sk-container-id-1 div.sk-label-container {text-align: center;}#sk-container-id-1 div.sk-container {/* jupyter's `normalize.less` sets `[hidden] { display: none; }` but bootstrap.min.css set `[hidden] { display: none !important; }` so we also need the `!important` here to be able to override the default hidden behavior on the sphinx rendered scikit-learn.org. See: https://github.com/scikit-learn/scikit-learn/issues/21755 */display: inline-block !important;position: relative;}#sk-container-id-1 div.sk-text-repr-fallback {display: none;}</style><div id=\"sk-container-id-1\" class=\"sk-top-container\"><div class=\"sk-text-repr-fallback\"><pre>RandomForestClassifier(min_samples_split=100, n_estimators=200, random_state=1)</pre><b>In a Jupyter environment, please rerun this cell to show the HTML representation or trust the notebook. <br />On GitHub, the HTML representation is unable to render, please try loading this page with nbviewer.org.</b></div><div class=\"sk-container\" hidden><div class=\"sk-item\"><div class=\"sk-estimator sk-toggleable\"><input class=\"sk-toggleable__control sk-hidden--visually\" id=\"sk-estimator-id-1\" type=\"checkbox\" checked><label for=\"sk-estimator-id-1\" class=\"sk-toggleable__label sk-toggleable__label-arrow\">RandomForestClassifier</label><div class=\"sk-toggleable__content\"><pre>RandomForestClassifier(min_samples_split=100, n_estimators=200, random_state=1)</pre></div></div></div></div></div>"
      ],
      "text/plain": [
       "RandomForestClassifier(min_samples_split=100, n_estimators=200, random_state=1)"
      ]
     },
     "execution_count": 26,
     "metadata": {},
     "output_type": "execute_result"
    }
   ],
   "source": [
    "predictors = [\"Close\", \"Volume\", \"High\",\"Low\",\"Open\"]\n",
    "model.fit(train[predictors], train[\"Target\"])"
   ]
  },
  {
   "cell_type": "code",
   "execution_count": 44,
   "metadata": {},
   "outputs": [
    {
     "data": {
      "text/plain": [
       "0.6875"
      ]
     },
     "execution_count": 44,
     "metadata": {},
     "output_type": "execute_result"
    }
   ],
   "source": [
    "from sklearn.metrics import precision_score\n",
    "import pandas as pd\n",
    "preds = pd.Series(model.predict(test[predictors]),index=test.index)\n",
    "precision_score(test[\"Target\"],preds)"
   ]
  },
  {
   "cell_type": "code",
   "execution_count": 45,
   "metadata": {},
   "outputs": [
    {
     "data": {
      "text/plain": [
       "<Axes: xlabel='Date'>"
      ]
     },
     "execution_count": 45,
     "metadata": {},
     "output_type": "execute_result"
    },
    {
     "data": {
      "image/png": "[encoded data removed]",
      "text/plain": [
       "<Figure size 640x480 with 1 Axes>"
      ]
     },
     "metadata": {},
     "output_type": "display_data"
    }
   ],
   "source": [
    "combined = pd.concat([test[\"Target\"],preds],axis=1)\n",
    "combined.plot()"
   ]
  },
  {
   "cell_type": "code",
   "execution_count": 47,
   "metadata": {},
   "outputs": [],
   "source": [
    "def predict(train, test, predictors, model):\n",
    "  model.fit(train[predictors], train[\"Target\"])\n",
    "  pred = pd.Series(model.predict(test[predictors]),index=test.index,name=\"Predictions\")\n",
    "  combined = pd.concat([test[\"Target\"],pred],axis=1)\n",
    "  return combined"
   ]
  },
  {
   "cell_type": "code",
   "execution_count": 87,
   "metadata": {},
   "outputs": [],
   "source": [
    "def backtest(data,model,predictors,start=1250,step=125):\n",
    "  all_predictions=[]\n",
    "  for i in range(start,data.shape[0],step):\n",
    "    train = data.iloc[0:i].copy()\n",
    "    test = data.iloc[i:(i+step)].copy()\n",
    "    predictions = predict(train, test, predictors, model)\n",
    "    all_predictions.append(predictions)\n",
    "  \n",
    "  return pd.concat(all_predictions)"
   ]
  },
  {
   "cell_type": "code",
   "execution_count": 50,
   "metadata": {},
   "outputs": [],
   "source": [
    "predictions = backtest(nifty,model,predictors)"
   ]
  },
  {
   "cell_type": "code",
   "execution_count": 51,
   "metadata": {},
   "outputs": [
    {
     "data": {
      "text/plain": [
       "Predictions\n",
       "1    772\n",
       "0    627\n",
       "Name: count, dtype: int64"
      ]
     },
     "execution_count": 51,
     "metadata": {},
     "output_type": "execute_result"
    }
   ],
   "source": [
    "predictions[\"Predictions\"].value_counts()"
   ]
  },
  {
   "cell_type": "code",
   "execution_count": 52,
   "metadata": {},
   "outputs": [
    {
     "data": {
      "text/html": [
       "<div>\n",
       "<style scoped>\n",
       "    .dataframe tbody tr th:only-of-type {\n",
       "        vertical-align: middle;\n",
       "    }\n",
       "\n",
       "    .dataframe tbody tr th {\n",
       "        vertical-align: top;\n",
       "    }\n",
       "\n",
       "    .dataframe thead th {\n",
       "        text-align: right;\n",
       "    }\n",
       "</style>\n",
       "<table border=\"1\" class=\"dataframe\">\n",
       "  <thead>\n",
       "    <tr style=\"text-align: right;\">\n",
       "      <th></th>\n",
       "      <th>Target</th>\n",
       "      <th>Predictions</th>\n",
       "    </tr>\n",
       "    <tr>\n",
       "      <th>Date</th>\n",
       "      <th></th>\n",
       "      <th></th>\n",
       "    </tr>\n",
       "  </thead>\n",
       "  <tbody>\n",
       "    <tr>\n",
       "      <th>2017-12-08 00:00:00+05:30</th>\n",
       "      <td>1</td>\n",
       "      <td>0</td>\n",
       "    </tr>\n",
       "    <tr>\n",
       "      <th>2017-12-11 00:00:00+05:30</th>\n",
       "      <td>0</td>\n",
       "      <td>1</td>\n",
       "    </tr>\n",
       "    <tr>\n",
       "      <th>2017-12-12 00:00:00+05:30</th>\n",
       "      <td>0</td>\n",
       "      <td>1</td>\n",
       "    </tr>\n",
       "    <tr>\n",
       "      <th>2017-12-13 00:00:00+05:30</th>\n",
       "      <td>1</td>\n",
       "      <td>1</td>\n",
       "    </tr>\n",
       "    <tr>\n",
       "      <th>2017-12-14 00:00:00+05:30</th>\n",
       "      <td>1</td>\n",
       "      <td>1</td>\n",
       "    </tr>\n",
       "    <tr>\n",
       "      <th>...</th>\n",
       "      <td>...</td>\n",
       "      <td>...</td>\n",
       "    </tr>\n",
       "    <tr>\n",
       "      <th>2023-08-07 00:00:00+05:30</th>\n",
       "      <td>0</td>\n",
       "      <td>0</td>\n",
       "    </tr>\n",
       "    <tr>\n",
       "      <th>2023-08-08 00:00:00+05:30</th>\n",
       "      <td>1</td>\n",
       "      <td>0</td>\n",
       "    </tr>\n",
       "    <tr>\n",
       "      <th>2023-08-09 00:00:00+05:30</th>\n",
       "      <td>0</td>\n",
       "      <td>0</td>\n",
       "    </tr>\n",
       "    <tr>\n",
       "      <th>2023-08-10 00:00:00+05:30</th>\n",
       "      <td>0</td>\n",
       "      <td>0</td>\n",
       "    </tr>\n",
       "    <tr>\n",
       "      <th>2023-08-11 00:00:00+05:30</th>\n",
       "      <td>0</td>\n",
       "      <td>0</td>\n",
       "    </tr>\n",
       "  </tbody>\n",
       "</table>\n",
       "<p>1399 rows × 2 columns</p>\n",
       "</div>"
      ],
      "text/plain": [
       "                           Target  Predictions\n",
       "Date                                          \n",
       "2017-12-08 00:00:00+05:30       1            0\n",
       "2017-12-11 00:00:00+05:30       0            1\n",
       "2017-12-12 00:00:00+05:30       0            1\n",
       "2017-12-13 00:00:00+05:30       1            1\n",
       "2017-12-14 00:00:00+05:30       1            1\n",
       "...                           ...          ...\n",
       "2023-08-07 00:00:00+05:30       0            0\n",
       "2023-08-08 00:00:00+05:30       1            0\n",
       "2023-08-09 00:00:00+05:30       0            0\n",
       "2023-08-10 00:00:00+05:30       0            0\n",
       "2023-08-11 00:00:00+05:30       0            0\n",
       "\n",
       "[1399 rows x 2 columns]"
      ]
     },
     "execution_count": 52,
     "metadata": {},
     "output_type": "execute_result"
    }
   ],
   "source": [
    "predictions"
   ]
  },
  {
   "cell_type": "code",
   "execution_count": 53,
   "metadata": {},
   "outputs": [
    {
     "data": {
      "text/plain": [
       "0.5453367875647669"
      ]
     },
     "execution_count": 53,
     "metadata": {},
     "output_type": "execute_result"
    }
   ],
   "source": [
    "precision_score(predictions[\"Target\"],predictions[\"Predictions\"])"
   ]
  },
  {
   "cell_type": "code",
   "execution_count": 54,
   "metadata": {},
   "outputs": [
    {
     "data": {
      "text/plain": [
       "Target\n",
       "1    0.54396\n",
       "0    0.45604\n",
       "Name: count, dtype: float64"
      ]
     },
     "execution_count": 54,
     "metadata": {},
     "output_type": "execute_result"
    }
   ],
   "source": [
    "predictions[\"Target\"].value_counts() / predictions.shape[0]"
   ]
  },
  {
   "cell_type": "code",
   "execution_count": 58,
   "metadata": {},
   "outputs": [],
   "source": [
    "horizons = [2,5,60,250,1000]\n",
    "new_predictors = []\n",
    "\n",
    "for h in horizons:\n",
    "  rolling_avg = nifty.rolling(h).mean()\n",
    "  \n",
    "  ratio_column = f\"Close_Ratio_{h}\"\n",
    "  nifty[ratio_column] = nifty[\"Close\"] / rolling_avg[\"Close\"]\n",
    "  \n",
    "  trend_column = f\"Trend_{h}\"\n",
    "  nifty[trend_column] = nifty.shift(1).rolling(h).sum()[\"Target\"]\n",
    "  \n",
    "  new_predictors += [ratio_column, trend_column]"
   ]
  },
  {
   "cell_type": "code",
   "execution_count": 65,
   "metadata": {},
   "outputs": [],
   "source": [
    "nifty = nifty.dropna()"
   ]
  },
  {
   "cell_type": "code",
   "execution_count": 66,
   "metadata": {},
   "outputs": [],
   "source": [
    "model = RandomForestClassifier(n_estimators=200,min_samples_split=50,random_state=1)\n"
   ]
  },
  {
   "cell_type": "code",
   "execution_count": 67,
   "metadata": {},
   "outputs": [],
   "source": [
    "def predict(train, test, predictors, model):\n",
    "  model.fit(train[predictors], train[\"Target\"])\n",
    "  pred = model.predict_proba(test[predictors])[:,1]\n",
    "  pred[pred>=0.6] = 1\n",
    "  pred[pred<0.6] = 0\n",
    "  pred = pd.Series(pred,index=test.index,name=\"Predictions\")\n",
    "  combined = pd.concat([test[\"Target\"],pred],axis=1)\n",
    "  return combined"
   ]
  },
  {
   "cell_type": "code",
   "execution_count": 88,
   "metadata": {},
   "outputs": [],
   "source": [
    "predictions = backtest(nifty,model,new_predictors)"
   ]
  },
  {
   "cell_type": "code",
   "execution_count": 89,
   "metadata": {},
   "outputs": [
    {
     "data": {
      "text/plain": [
       "Predictions\n",
       "0.0    1425\n",
       "1.0     223\n",
       "Name: count, dtype: int64"
      ]
     },
     "execution_count": 89,
     "metadata": {},
     "output_type": "execute_result"
    }
   ],
   "source": [
    "predictions[\"Predictions\"].value_counts()"
   ]
  },
  {
   "cell_type": "code",
   "execution_count": 90,
   "metadata": {},
   "outputs": [
    {
     "data": {
      "text/plain": [
       "0.6367713004484304"
      ]
     },
     "execution_count": 90,
     "metadata": {},
     "output_type": "execute_result"
    }
   ],
   "source": [
    "precision_score(predictions[\"Target\"],predictions[\"Predictions\"])"
   ]
  },
  {
   "cell_type": "code",
   "execution_count": null,
   "metadata": {},
   "outputs": [],
   "source": []
  }
 ],
 "metadata": {
  "kernelspec": {
   "display_name": "Fuck_Around",
   "language": "python",
   "name": "python3"
  },
  "language_info": {
   "codemirror_mode": {
    "name": "ipython",
    "version": 3
   },
   "file_extension": ".py",
   "mimetype": "text/x-python",
   "name": "python",
   "nbconvert_exporter": "python",
   "pygments_lexer": "ipython3",
   "version": "3.10.11"
  },
  "orig_nbformat": 4
 },
 "nbformat": 4,
 "nbformat_minor": 2
}
